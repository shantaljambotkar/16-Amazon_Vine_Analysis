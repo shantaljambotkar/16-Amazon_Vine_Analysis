{
  "nbformat": 4,
  "nbformat_minor": 0,
  "metadata": {
    "colab": {
      "name": "Vine_Review_Analysis.ipynb",
      "provenance": [],
      "collapsed_sections": []
    },
    "kernelspec": {
      "name": "python3",
      "display_name": "Python 3"
    },
    "language_info": {
      "name": "python"
    }
  },
  "cells": [
    {
      "cell_type": "code",
      "metadata": {
        "colab": {
          "base_uri": "https://localhost:8080/"
        },
        "id": "YGCT-6wSSyp5",
        "outputId": "fba64abd-11d4-4b6d-ef9a-ba6bb82a8298"
      },
      "source": [
        "import os\n",
        "# Find the latest version of spark 3.0  from http://www.apache.org/dist/spark/ and enter as the spark version\n",
        "# For example:\n",
        "# spark_version = 'spark-3.0.3'\n",
        "spark_version = 'spark-3.0.3'\n",
        "os.environ['SPARK_VERSION']=spark_version\n",
        "\n",
        "# Install Spark and Java\n",
        "!apt-get update\n",
        "!apt-get install openjdk-11-jdk-headless -qq > /dev/null\n",
        "!wget -q http://www.apache.org/dist/spark/$SPARK_VERSION/$SPARK_VERSION-bin-hadoop2.7.tgz\n",
        "!tar xf $SPARK_VERSION-bin-hadoop2.7.tgz\n",
        "!pip install -q findspark\n",
        "\n",
        "# Set Environment Variables\n",
        "os.environ[\"JAVA_HOME\"] = \"/usr/lib/jvm/java-11-openjdk-amd64\"\n",
        "os.environ[\"SPARK_HOME\"] = f\"/content/{spark_version}-bin-hadoop2.7\"\n",
        "\n",
        "# Start a SparkSession\n",
        "import findspark\n",
        "findspark.init()"
      ],
      "execution_count": 1,
      "outputs": [
        {
          "output_type": "stream",
          "name": "stdout",
          "text": [
            "Get:1 https://cloud.r-project.org/bin/linux/ubuntu bionic-cran40/ InRelease [3,626 B]\n",
            "Ign:2 https://developer.download.nvidia.com/compute/cuda/repos/ubuntu1804/x86_64  InRelease\n",
            "Get:3 http://security.ubuntu.com/ubuntu bionic-security InRelease [88.7 kB]\n",
            "Ign:4 https://developer.download.nvidia.com/compute/machine-learning/repos/ubuntu1804/x86_64  InRelease\n",
            "Get:5 https://developer.download.nvidia.com/compute/cuda/repos/ubuntu1804/x86_64  Release [696 B]\n",
            "Hit:6 https://developer.download.nvidia.com/compute/machine-learning/repos/ubuntu1804/x86_64  Release\n",
            "Get:7 http://ppa.launchpad.net/c2d4u.team/c2d4u4.0+/ubuntu bionic InRelease [15.9 kB]\n",
            "Get:8 https://developer.download.nvidia.com/compute/cuda/repos/ubuntu1804/x86_64  Release.gpg [836 B]\n",
            "Hit:9 http://archive.ubuntu.com/ubuntu bionic InRelease\n",
            "Get:11 http://archive.ubuntu.com/ubuntu bionic-updates InRelease [88.7 kB]\n",
            "Get:12 https://developer.download.nvidia.com/compute/cuda/repos/ubuntu1804/x86_64  Packages [829 kB]\n",
            "Hit:13 http://ppa.launchpad.net/cran/libgit2/ubuntu bionic InRelease\n",
            "Hit:14 http://ppa.launchpad.net/deadsnakes/ppa/ubuntu bionic InRelease\n",
            "Get:15 http://archive.ubuntu.com/ubuntu bionic-backports InRelease [74.6 kB]\n",
            "Get:16 http://security.ubuntu.com/ubuntu bionic-security/universe amd64 Packages [1,444 kB]\n",
            "Get:17 http://ppa.launchpad.net/graphics-drivers/ppa/ubuntu bionic InRelease [21.3 kB]\n",
            "Get:18 http://archive.ubuntu.com/ubuntu bionic-updates/universe amd64 Packages [2,225 kB]\n",
            "Get:19 http://security.ubuntu.com/ubuntu bionic-security/restricted amd64 Packages [691 kB]\n",
            "Get:20 http://ppa.launchpad.net/c2d4u.team/c2d4u4.0+/ubuntu bionic/main Sources [1,813 kB]\n",
            "Get:21 http://security.ubuntu.com/ubuntu bionic-security/main amd64 Packages [2,461 kB]\n",
            "Get:22 http://archive.ubuntu.com/ubuntu bionic-updates/restricted amd64 Packages [725 kB]\n",
            "Get:23 http://archive.ubuntu.com/ubuntu bionic-updates/main amd64 Packages [2,898 kB]\n",
            "Get:24 http://ppa.launchpad.net/c2d4u.team/c2d4u4.0+/ubuntu bionic/main amd64 Packages [930 kB]\n",
            "Get:25 http://ppa.launchpad.net/graphics-drivers/ppa/ubuntu bionic/main amd64 Packages [44.7 kB]\n",
            "Fetched 14.4 MB in 7s (2,007 kB/s)\n",
            "Reading package lists... Done\n"
          ]
        }
      ]
    },
    {
      "cell_type": "code",
      "metadata": {
        "colab": {
          "base_uri": "https://localhost:8080/"
        },
        "id": "O3x2mGTkTKfB",
        "outputId": "33d9acfa-2d47-4b3c-c2c8-6ef3f0e628b2"
      },
      "source": [
        "!wget https://jdbc.postgresql.org/download/postgresql-42.2.16.jar"
      ],
      "execution_count": 2,
      "outputs": [
        {
          "output_type": "stream",
          "name": "stdout",
          "text": [
            "--2021-12-03 20:55:54--  https://jdbc.postgresql.org/download/postgresql-42.2.16.jar\n",
            "Resolving jdbc.postgresql.org (jdbc.postgresql.org)... 72.32.157.228, 2001:4800:3e1:1::228\n",
            "Connecting to jdbc.postgresql.org (jdbc.postgresql.org)|72.32.157.228|:443... connected.\n",
            "HTTP request sent, awaiting response... 200 OK\n",
            "Length: 1002883 (979K) [application/java-archive]\n",
            "Saving to: ‘postgresql-42.2.16.jar’\n",
            "\n",
            "postgresql-42.2.16. 100%[===================>] 979.38K  1.22MB/s    in 0.8s    \n",
            "\n",
            "2021-12-03 20:55:56 (1.22 MB/s) - ‘postgresql-42.2.16.jar’ saved [1002883/1002883]\n",
            "\n"
          ]
        }
      ]
    },
    {
      "cell_type": "code",
      "metadata": {
        "id": "vymc8V-LTNLR"
      },
      "source": [
        "from pyspark.sql import SparkSession\n",
        "spark = SparkSession.builder.appName(\"CloudETL\").config(\"spark.driver.extraClassPath\",\"/content/postgresql-42.2.16.jar\").getOrCreate()"
      ],
      "execution_count": 3,
      "outputs": []
    },
    {
      "cell_type": "code",
      "metadata": {
        "colab": {
          "base_uri": "https://localhost:8080/"
        },
        "id": "n1KKT5NuTWey",
        "outputId": "8be1c930-bf3d-4ded-9559-cffd02cae6e9"
      },
      "source": [
        "from pyspark import SparkFiles\n",
        "url = \"https://s3.amazonaws.com/amazon-reviews-pds/tsv/amazon_reviews_us_Books_v1_01.tsv.gz\"\n",
        "spark.sparkContext.addFile(url)\n",
        "df = spark.read.option(\"encoding\", \"UTF-8\").csv(SparkFiles.get(\"amazon_reviews_us_Books_v1_01.tsv.gz\"), sep=\"\\t\", header=True, inferSchema=True)\n",
        "df.show()"
      ],
      "execution_count": 4,
      "outputs": [
        {
          "output_type": "stream",
          "name": "stdout",
          "text": [
            "+-----------+-----------+--------------+----------+--------------+--------------------+----------------+-----------+-------------+-----------+----+-----------------+--------------------+--------------------+-----------+\n",
            "|marketplace|customer_id|     review_id|product_id|product_parent|       product_title|product_category|star_rating|helpful_votes|total_votes|vine|verified_purchase|     review_headline|         review_body|review_date|\n",
            "+-----------+-----------+--------------+----------+--------------+--------------------+----------------+-----------+-------------+-----------+----+-----------------+--------------------+--------------------+-----------+\n",
            "|         US|   22480053|R28HBXXO1UEVJT|0843952016|      34858117|          The Rising|           Books|          5|            0|          0|   N|                N|Great Twist on Zo...|I've known about ...| 2012-05-03|\n",
            "|         US|   44244451| RZKRFS2UUMFFU|031088926X|     676347131|Sticky Faith Teen...|           Books|          5|           15|         15|   N|                Y|Helpful and Pract...|The student curri...| 2012-05-03|\n",
            "|         US|   20357422|R2WAU9MD9K6JQA|0615268102|     763837025|Black Passenger Y...|           Books|          3|            6|          8|   N|                N|                Paul|I found \\\\\"Black ...| 2012-05-03|\n",
            "|         US|   13235208|R36SCTKYTVPZPC|1900869225|     785539232|Direction and Des...|           Books|          5|           10|         11|   N|                Y|Direction and Des...|Sasportas is a br...| 2012-05-03|\n",
            "|         US|   26301786|R10BM6JUOJX27Q|1565129938|      64646125| Until the Next Time|           Books|          3|            0|          0|   Y|                N|       This was Okay|I wanted to love ...| 2012-05-03|\n",
            "|         US|   27780192| RCLZ5OKZNUSY4|146854456X|     270349766| Unfinished Business|           Books|          5|            0|          0|   N|                Y|   Excellent read!!!|What an exciting ...| 2012-05-03|\n",
            "|         US|   13041546|R1S65DJYEI89G4|1118094514|     752141158|The Republican Br...|           Books|          4|            8|         17|   N|                N|A must read for s...|This book is exce...| 2012-05-03|\n",
            "|         US|   51692331|R3KQYBQOLYDETV|0563521147|     729491316|Good Food: 101 Ca...|           Books|          4|            2|          2|   N|                N|   Chocoholic heaven|If you are on a d...| 2012-05-03|\n",
            "|         US|   23108524|R3QV8K7CSU8K2W|0669444421|     261004015|Patterns and Quil...|           Books|          5|            0|          0|   N|                N|Quilt Art Project...|Written by quilt ...| 2012-05-03|\n",
            "|         US|   51692331|R3W5A1WUGO5VQ0|1897784457|     497876045|Practical Food Sm...|           Books|          4|            0|          1|   N|                N|         A good read|Food smoking has ...| 2012-05-03|\n",
            "|         US|   49438248|R20AQCY3FMBVN5|0316738158|     691490916|The Big Love: A N...|           Books|          5|            0|          0|   N|                N|One of my favorites!|This is one of my...| 2012-05-03|\n",
            "|         US|   11818020| R7KY8VL871MVL|0738730440|     544176812|Around the Tarot ...|           Books|          5|           13|         15|   N|                Y|A must for tarot ...|I have been waiti...| 2012-05-03|\n",
            "|         US|   51692331| RHF5E4UOL5LQ3|1902842286|     698916699|Favourite Apple R...|           Books|          5|            2|          2|   N|                N|  A good little book|Jane Austen said ...| 2012-05-03|\n",
            "|         US|   29446920|R1LMUDN5M9G6ZZ|1465399577|     922463098|       Kevin and Tak|           Books|          5|            0|          0|   N|                N|            so great|I felt this was a...| 2012-05-03|\n",
            "|         US|   33284115| RNGA47KD4CEB8|0061934704|     740765152|Opium Nation: Chi...|           Books|          5|            0|          0|   N|                N|Knowing Afghanist...|Fariba Nawa, desc...| 2012-05-03|\n",
            "|         US|   44728718|R33MYHP5RY1139|1432729039|     116349266|        True to Life|           Books|          5|            3|          3|   N|                N|Modern poetry tha...|For many, reading...| 2012-05-03|\n",
            "|         US|   52534548|R18VIM840CEFRP|1621360075|     143884185|The Real Kosher J...|           Books|          1|           16|        105|   N|                N|                 SLH|I'm sorry, but ca...| 2012-05-03|\n",
            "|         US|   37836302| RQOZBXX7M0U6H|097723732X|     106641033|Idioms Go To The ...|           Books|          5|            0|          0|   N|                N|         Great book!|The (slightly) ea...| 2012-05-03|\n",
            "|         US|   38588903|R3SH84TAORQP2T|0983945209|     377432437|Elsie -  Adventur...|           Books|          5|            3|          3|   N|                N|      Terrific Book!|By Den Adler<br /...| 2012-05-03|\n",
            "|         US|   49148452| RL1OHWOHPM7RO|1419701630|     307676830|Chuck Close: Face...|           Books|          5|            8|          9|   N|                N|  Close and personal|The autobiography...| 2012-05-03|\n",
            "+-----------+-----------+--------------+----------+--------------+--------------------+----------------+-----------+-------------+-----------+----+-----------------+--------------------+--------------------+-----------+\n",
            "only showing top 20 rows\n",
            "\n"
          ]
        }
      ]
    },
    {
      "cell_type": "code",
      "metadata": {
        "colab": {
          "base_uri": "https://localhost:8080/"
        },
        "id": "c7UF1sr7FVkj",
        "outputId": "05f0b171-a7fc-4898-a0f5-ec2e42bcd60f"
      },
      "source": [
        "# the total_votes count is equal to or greater than 20 to pick reviews that are more likely to be helpful \n",
        "vine_table_20 = df.filter(\"total_votes >=  20\")\n",
        "\n",
        "vine_table_20.show()"
      ],
      "execution_count": 9,
      "outputs": [
        {
          "output_type": "stream",
          "name": "stdout",
          "text": [
            "+-----------+-----------+--------------+----------+--------------+--------------------+----------------+-----------+-------------+-----------+----+-----------------+--------------------+--------------------+-----------+\n",
            "|marketplace|customer_id|     review_id|product_id|product_parent|       product_title|product_category|star_rating|helpful_votes|total_votes|vine|verified_purchase|     review_headline|         review_body|review_date|\n",
            "+-----------+-----------+--------------+----------+--------------+--------------------+----------------+-----------+-------------+-----------+----+-----------------+--------------------+--------------------+-----------+\n",
            "|         US|   52534548|R18VIM840CEFRP|1621360075|     143884185|The Real Kosher J...|           Books|          1|           16|        105|   N|                N|                 SLH|I'm sorry, but ca...| 2012-05-03|\n",
            "|         US|   49541983|R14PMAJTY0EAAT|1937007456|     411822135|The Lost Fleet: B...|           Books|          4|          135|        142|   N|                Y|Good Continuation...|Bottom line is th...| 2012-05-03|\n",
            "|         US|   52978967|R1363VA3TPNLVB|0670022969|     432940103|American Nations:...|           Books|          5|          370|        388|   N|                Y|Like scales falli...|Colin Woodard has...| 2012-05-03|\n",
            "|         US|   52445438| RBQZC5A3TSWT5|085768986X|      69886969|Joss Whedon: The ...|           Books|          5|           11|         22|   N|                Y| it's full of words!|i pre-ordered thi...| 2012-05-02|\n",
            "|         US|   25822716| RW00TDPV9U93E|1595554599|     942139077|The Jefferson Lie...|           Books|          1|           35|         76|   N|                N|Saw the author on...|I saw the author ...| 2012-05-02|\n",
            "|         US|   52977415|R3OW0AIVLEDIQ7|0262016729|     624789283|The Clash of Gene...|           Books|          3|           99|        121|   N|                N|Fiscal analysis 1...|This book covers ...| 2012-05-02|\n",
            "|         US|   26721603|R3DTESO4FUAPKQ|1455502413|     137970084|Rather Outspoken:...|           Books|          5|           90|        102|   N|                N|Rather knocks it ...|I have worked for...| 2012-05-02|\n",
            "|         US|   39735480|R18I0XBYWFSR5T|1595554599|     942139077|The Jefferson Lie...|           Books|          1|           16|         50|   N|                N|           apt title|I was curious abo...| 2012-05-02|\n",
            "|         US|   31398202|R1VSQ3QK30VDI0|0393088774|     132712094|End This Depressi...|           Books|          5|           23|         35|   N|                N|Clear arguments u...|This is a great b...| 2012-05-02|\n",
            "|         US|   13575437|R3NEJBF4FXMVUU|1609412427|     422462452|Vegan Cooking for...|           Books|          5|           87|         90|   N|                Y|Cooking up a stor...|I love this book....| 2012-05-02|\n",
            "|         US|   14213000|R34ZTQTHWRHT5R|1893183246|      42346661|Voyagers: The Sle...|           Books|          5|           18|         20|   N|                Y|        Enlightening|After determining...| 2012-05-02|\n",
            "|         US|   30627084|R367X555006ROC|0984975314|     617362935|Arena One: Slaver...|           Books|          1|           39|         44|   N|                N|This is NOT \"The ...|This dystopian YA...| 2012-05-02|\n",
            "|         US|   32783890| R4NCMAZCRAXHT|1584798947|     555497783|CakeLove in the M...|           Books|          3|           19|         21|   N|                N|For the novice ba...|Pros: beautiful p...| 2012-05-02|\n",
            "|         US|   10275785|R1WQJ6BTGTJNHM|0029166500|     496838867|The Triumph of Co...|           Books|          3|            6|         47|   N|                N|            Ayn Rand|\\\\\"A mixed econom...| 2012-05-02|\n",
            "|         US|   10634581|R33JIVA97UYKH2|1611453305|     328274764|Perfume: The Alch...|           Books|          2|           23|         29|   N|                Y|    Fails to Deliver|This book disappo...| 2012-05-02|\n",
            "|         US|   24512353| RSD6TF0E24D9P|0061985120|      64682743|Still the Best Ho...|           Books|          5|           30|         34|   N|                Y|PLEASE ACTIVATE F...|As I believe the ...| 2012-05-02|\n",
            "|         US|   46969326|R2DLFW0GMIFTKP|0761155589|     818975183|Just Ride: A Radi...|           Books|          5|           53|         58|   N|                Y|           Just Read|A few years ago I...| 2012-05-02|\n",
            "|         US|   24202187| RQZ638E0E34Z3|1937007448|     512918432|Deadlocked (Sooki...|           Books|          2|          259|        299|   N|                N|Really not very good|I have loved all ...| 2012-05-02|\n",
            "|         US|   35906535|R2RP1D1I036Q6C|0393338827|      80223098|The Big Short: In...|           Books|          1|           20|         34|   N|                N|      Self-indulgent|Micheal Lewis wri...| 2012-05-02|\n",
            "|         US|   26356879|R3TJPP6SLHXO41|1591843529|     284133276|The Personal MBA:...|           Books|          1|           16|         27|   N|                Y|This book was not...|The Personal MBA ...| 2012-05-02|\n",
            "+-----------+-----------+--------------+----------+--------------+--------------------+----------------+-----------+-------------+-----------+----+-----------------+--------------------+--------------------+-----------+\n",
            "only showing top 20 rows\n",
            "\n"
          ]
        }
      ]
    },
    {
      "cell_type": "code",
      "metadata": {
        "colab": {
          "base_uri": "https://localhost:8080/"
        },
        "id": "kn4IYTftHoae",
        "outputId": "062a380e-3d3d-4455-84ae-f902e7c21c39"
      },
      "source": [
        "# Filter the new DataFrame to retrieve all the rows where the number of helpful_votes divided by total_votes is equal to or greater than 50%.\n",
        "\n",
        "vine_table_50 = vine_table_20.filter(\"helpful_votes/total_votes >=0.5\")\n",
        "\n",
        "vine_table_50.show()"
      ],
      "execution_count": 12,
      "outputs": [
        {
          "output_type": "stream",
          "name": "stdout",
          "text": [
            "+-----------+-----------+--------------+----------+--------------+--------------------+----------------+-----------+-------------+-----------+----+-----------------+--------------------+--------------------+-----------+\n",
            "|marketplace|customer_id|     review_id|product_id|product_parent|       product_title|product_category|star_rating|helpful_votes|total_votes|vine|verified_purchase|     review_headline|         review_body|review_date|\n",
            "+-----------+-----------+--------------+----------+--------------+--------------------+----------------+-----------+-------------+-----------+----+-----------------+--------------------+--------------------+-----------+\n",
            "|         US|   49541983|R14PMAJTY0EAAT|1937007456|     411822135|The Lost Fleet: B...|           Books|          4|          135|        142|   N|                Y|Good Continuation...|Bottom line is th...| 2012-05-03|\n",
            "|         US|   52978967|R1363VA3TPNLVB|0670022969|     432940103|American Nations:...|           Books|          5|          370|        388|   N|                Y|Like scales falli...|Colin Woodard has...| 2012-05-03|\n",
            "|         US|   52445438| RBQZC5A3TSWT5|085768986X|      69886969|Joss Whedon: The ...|           Books|          5|           11|         22|   N|                Y| it's full of words!|i pre-ordered thi...| 2012-05-02|\n",
            "|         US|   52977415|R3OW0AIVLEDIQ7|0262016729|     624789283|The Clash of Gene...|           Books|          3|           99|        121|   N|                N|Fiscal analysis 1...|This book covers ...| 2012-05-02|\n",
            "|         US|   26721603|R3DTESO4FUAPKQ|1455502413|     137970084|Rather Outspoken:...|           Books|          5|           90|        102|   N|                N|Rather knocks it ...|I have worked for...| 2012-05-02|\n",
            "|         US|   31398202|R1VSQ3QK30VDI0|0393088774|     132712094|End This Depressi...|           Books|          5|           23|         35|   N|                N|Clear arguments u...|This is a great b...| 2012-05-02|\n",
            "|         US|   13575437|R3NEJBF4FXMVUU|1609412427|     422462452|Vegan Cooking for...|           Books|          5|           87|         90|   N|                Y|Cooking up a stor...|I love this book....| 2012-05-02|\n",
            "|         US|   14213000|R34ZTQTHWRHT5R|1893183246|      42346661|Voyagers: The Sle...|           Books|          5|           18|         20|   N|                Y|        Enlightening|After determining...| 2012-05-02|\n",
            "|         US|   30627084|R367X555006ROC|0984975314|     617362935|Arena One: Slaver...|           Books|          1|           39|         44|   N|                N|This is NOT \"The ...|This dystopian YA...| 2012-05-02|\n",
            "|         US|   32783890| R4NCMAZCRAXHT|1584798947|     555497783|CakeLove in the M...|           Books|          3|           19|         21|   N|                N|For the novice ba...|Pros: beautiful p...| 2012-05-02|\n",
            "|         US|   10634581|R33JIVA97UYKH2|1611453305|     328274764|Perfume: The Alch...|           Books|          2|           23|         29|   N|                Y|    Fails to Deliver|This book disappo...| 2012-05-02|\n",
            "|         US|   24512353| RSD6TF0E24D9P|0061985120|      64682743|Still the Best Ho...|           Books|          5|           30|         34|   N|                Y|PLEASE ACTIVATE F...|As I believe the ...| 2012-05-02|\n",
            "|         US|   46969326|R2DLFW0GMIFTKP|0761155589|     818975183|Just Ride: A Radi...|           Books|          5|           53|         58|   N|                Y|           Just Read|A few years ago I...| 2012-05-02|\n",
            "|         US|   24202187| RQZ638E0E34Z3|1937007448|     512918432|Deadlocked (Sooki...|           Books|          2|          259|        299|   N|                N|Really not very good|I have loved all ...| 2012-05-02|\n",
            "|         US|   35906535|R2RP1D1I036Q6C|0393338827|      80223098|The Big Short: In...|           Books|          1|           20|         34|   N|                N|      Self-indulgent|Micheal Lewis wri...| 2012-05-02|\n",
            "|         US|   26356879|R3TJPP6SLHXO41|1591843529|     284133276|The Personal MBA:...|           Books|          1|           16|         27|   N|                Y|This book was not...|The Personal MBA ...| 2012-05-02|\n",
            "|         US|   42590007|R2DK25C3UOICDC|1118204123|     398659789|iOS Hacker's Hand...|           Books|          5|           13|         22|   N|                N|Great book. Stop ...|This is a great b...| 2012-05-02|\n",
            "|         US|   26851687|R3LWNR7QFH1P0U|1581604521|     758372207|Speak Like A Nati...|           Books|          1|           18|         24|   N|                N|It's like reading...|This review is fr...| 2012-05-02|\n",
            "|         US|   46381757|R32X7O6DKBEXM0|1439193541|     701007257|American Canopy: ...|           Books|          5|           25|         26|   N|                N|     Ground breaking|This is a real ma...| 2012-05-02|\n",
            "|         US|    9973109|R16VVIH03CTRHB|1905605285|     400609443|Puzzling People: ...|           Books|          5|           16|         25|   N|                Y|          Great read|This is a great b...| 2012-05-02|\n",
            "+-----------+-----------+--------------+----------+--------------+--------------------+----------------+-----------+-------------+-----------+----+-----------------+--------------------+--------------------+-----------+\n",
            "only showing top 20 rows\n",
            "\n"
          ]
        }
      ]
    },
    {
      "cell_type": "code",
      "metadata": {
        "colab": {
          "base_uri": "https://localhost:8080/"
        },
        "id": "RkdFjibfJFeu",
        "outputId": "fb2d7822-61c3-41ae-f2a5-62cce3084f7b"
      },
      "source": [
        "# create a new DataFrame that retrieves all the rows where a review was written as part of the Vine program (paid)\n",
        "vine_table_Y = vine_table_50.filter(\"vine == 'Y'\")\n",
        "\n",
        "vine_table_Y.show()"
      ],
      "execution_count": 14,
      "outputs": [
        {
          "output_type": "stream",
          "name": "stdout",
          "text": [
            "+-----------+-----------+--------------+----------+--------------+--------------------+----------------+-----------+-------------+-----------+----+-----------------+--------------------+--------------------+-----------+\n",
            "|marketplace|customer_id|     review_id|product_id|product_parent|       product_title|product_category|star_rating|helpful_votes|total_votes|vine|verified_purchase|     review_headline|         review_body|review_date|\n",
            "+-----------+-----------+--------------+----------+--------------+--------------------+----------------+-----------+-------------+-----------+----+-----------------+--------------------+--------------------+-----------+\n",
            "|         US|   50673938|R2Z8083V8ZFQVZ|1612183549|     561835180|Redemption (The P...|           Books|          3|           82|         87|   Y|                N|     Promising debut|The positives:  t...| 2012-05-02|\n",
            "|         US|   35653914| RK25TAO4GGS5G|0547567375|     266689242|The Bell Bandit (...|           Books|          3|           22|         24|   Y|                N|Torture Scene Cos...|There were many a...| 2012-05-02|\n",
            "|         US|   42944532|R2SJQG3C6KY0M8|1742205933|     287545472|The World's Best ...|           Books|          3|           18|         20|   Y|                N|For armchair cook...|The wonderful int...| 2012-05-02|\n",
            "|         US|   15737193|R12CHC0CB2WASU|1612183174|     198757847|           King City|           Books|          5|           43|         48|   Y|                N|There's a new she...|Detective Tom Wad...| 2012-05-02|\n",
            "|         US|   52772260|R2RY328TIDXMTE|0470647736|     665259602|The Scientific Am...|           Books|          2|           50|         61|   Y|                N|Some inaccurate i...|I have a degree i...| 2012-05-02|\n",
            "|         US|   42632783|R3K8OQU4PEP8W7|1594487014|      47188036|       The Chaperone|           Books|          4|           40|         46|   Y|                N|      A joy to read.|The Chaperone<br ...| 2012-05-01|\n",
            "|         US|   44863880|R1JI1A7JT99538|030758836X|      93816562|           Gone Girl|           Books|          3|           28|         40|   Y|                N|Starts off real s...|I'm just going to...| 2012-05-01|\n",
            "|         US|   30575449|R247K3K5SVPJUL|0374192049|     262803045|Little Century: A...|           Books|          3|           15|         20|   Y|                N|Tale of the Almos...|LITTLE CENTURY by...| 2012-04-30|\n",
            "|         US|   47770260|R27UEUDUYPLXZC|0132944677|     855208343|The College Solut...|           Books|          5|           20|         24|   Y|                N|This is the pract...|This is it.  The ...| 2012-04-30|\n",
            "|         US|   35417238|R2QQDNBYDIEL9F|1612182321|     674641303|Technomancer (Uns...|           Books|          5|           35|         41|   Y|                N| A Thrilling Mystery|Quentin Draith wa...| 2012-04-30|\n",
            "|         US|   52536258|R26ELQU09IPX5K|0307599590|     733854560|               Perla|           Books|          2|           11|         21|   Y|                N|Overwritten and w...|This is an intere...| 2012-04-29|\n",
            "|         US|   52564644| RSKUR90HGW6PY|0765316994|     393507760|Redshirts: A Nove...|           Books|          3|           34|         54|   Y|                N|Not as Good As I ...|We all know if yo...| 2012-04-29|\n",
            "|         US|   33376665|R1W7MQRB02CRG8|0062107968|     652614717|The Cottage at Gl...|           Books|          4|           20|         22|   Y|                N|The writing is lo...|For me the best p...| 2012-04-29|\n",
            "|         US|   52499409|R3LJN6BQL2F0BR|1612182070|     704852287|         Liquid Fear|           Books|          1|           28|         34|   Y|                N|Sure glad I didn'...|I almost NEVER gi...| 2012-04-29|\n",
            "|         US|   53070450|R3FO8YQ2BKL1RG|1118107381|      89683871|Evernote For Dummies|           Books|          5|           93|         94|   Y|                N|This is THE guide...|Evernote is a gre...| 2012-04-28|\n",
            "|         US|   33544477|R27HEI4FN6TZQ7|0062103733|     962376497|          Unraveling|           Books|          3|           20|         27|   Y|                N|Complex--or convo...|I must start by s...| 2012-04-28|\n",
            "|         US|   52904056|R3DRE8T4NTEWNV|111802740X|     925010801|Frommer's New Yor...|           Books|          5|           28|         28|   Y|                N|An excellent reso...|For years I've pe...| 2012-04-28|\n",
            "|         US|   50529050|R33G38RMCEXIVD|1594203377|     346152424|The Queen's Lover...|           Books|          4|           28|         29|   Y|                N|Marie Antoinette ...|Marie Antoinette ...| 2012-04-28|\n",
            "|         US|   14653952|R2ZD6GIDCKAJNM|0805094598|     380937934|Shadow and Bone (...|           Books|          5|          118|        139|   Y|                N|     Shadow and Bone|How can I convey ...| 2012-04-28|\n",
            "|         US|   43449150|R3DKQQNX6X3VTU|0399157646|     311942957|            Overseas|           Books|          4|           53|         56|   Y|                N|5-star story, 4-s...|I am not a reader...| 2012-04-27|\n",
            "+-----------+-----------+--------------+----------+--------------+--------------------+----------------+-----------+-------------+-----------+----+-----------------+--------------------+--------------------+-----------+\n",
            "only showing top 20 rows\n",
            "\n"
          ]
        }
      ]
    },
    {
      "cell_type": "code",
      "metadata": {
        "colab": {
          "base_uri": "https://localhost:8080/"
        },
        "id": "m2k0yACeJdD8",
        "outputId": "0705342a-915a-43f4-d1d3-2b820f4387f3"
      },
      "source": [
        "# create a new DataFrame that retrieves all the rows where a review was written as not part of the Vine program (unpaid)\n",
        "vine_table_N = vine_table_50.filter(\"vine == 'N'\")\n",
        "\n",
        "vine_table_N.show()"
      ],
      "execution_count": 15,
      "outputs": [
        {
          "output_type": "stream",
          "name": "stdout",
          "text": [
            "+-----------+-----------+--------------+----------+--------------+--------------------+----------------+-----------+-------------+-----------+----+-----------------+--------------------+--------------------+-----------+\n",
            "|marketplace|customer_id|     review_id|product_id|product_parent|       product_title|product_category|star_rating|helpful_votes|total_votes|vine|verified_purchase|     review_headline|         review_body|review_date|\n",
            "+-----------+-----------+--------------+----------+--------------+--------------------+----------------+-----------+-------------+-----------+----+-----------------+--------------------+--------------------+-----------+\n",
            "|         US|   49541983|R14PMAJTY0EAAT|1937007456|     411822135|The Lost Fleet: B...|           Books|          4|          135|        142|   N|                Y|Good Continuation...|Bottom line is th...| 2012-05-03|\n",
            "|         US|   52978967|R1363VA3TPNLVB|0670022969|     432940103|American Nations:...|           Books|          5|          370|        388|   N|                Y|Like scales falli...|Colin Woodard has...| 2012-05-03|\n",
            "|         US|   52445438| RBQZC5A3TSWT5|085768986X|      69886969|Joss Whedon: The ...|           Books|          5|           11|         22|   N|                Y| it's full of words!|i pre-ordered thi...| 2012-05-02|\n",
            "|         US|   52977415|R3OW0AIVLEDIQ7|0262016729|     624789283|The Clash of Gene...|           Books|          3|           99|        121|   N|                N|Fiscal analysis 1...|This book covers ...| 2012-05-02|\n",
            "|         US|   26721603|R3DTESO4FUAPKQ|1455502413|     137970084|Rather Outspoken:...|           Books|          5|           90|        102|   N|                N|Rather knocks it ...|I have worked for...| 2012-05-02|\n",
            "|         US|   31398202|R1VSQ3QK30VDI0|0393088774|     132712094|End This Depressi...|           Books|          5|           23|         35|   N|                N|Clear arguments u...|This is a great b...| 2012-05-02|\n",
            "|         US|   13575437|R3NEJBF4FXMVUU|1609412427|     422462452|Vegan Cooking for...|           Books|          5|           87|         90|   N|                Y|Cooking up a stor...|I love this book....| 2012-05-02|\n",
            "|         US|   14213000|R34ZTQTHWRHT5R|1893183246|      42346661|Voyagers: The Sle...|           Books|          5|           18|         20|   N|                Y|        Enlightening|After determining...| 2012-05-02|\n",
            "|         US|   30627084|R367X555006ROC|0984975314|     617362935|Arena One: Slaver...|           Books|          1|           39|         44|   N|                N|This is NOT \"The ...|This dystopian YA...| 2012-05-02|\n",
            "|         US|   32783890| R4NCMAZCRAXHT|1584798947|     555497783|CakeLove in the M...|           Books|          3|           19|         21|   N|                N|For the novice ba...|Pros: beautiful p...| 2012-05-02|\n",
            "|         US|   10634581|R33JIVA97UYKH2|1611453305|     328274764|Perfume: The Alch...|           Books|          2|           23|         29|   N|                Y|    Fails to Deliver|This book disappo...| 2012-05-02|\n",
            "|         US|   24512353| RSD6TF0E24D9P|0061985120|      64682743|Still the Best Ho...|           Books|          5|           30|         34|   N|                Y|PLEASE ACTIVATE F...|As I believe the ...| 2012-05-02|\n",
            "|         US|   46969326|R2DLFW0GMIFTKP|0761155589|     818975183|Just Ride: A Radi...|           Books|          5|           53|         58|   N|                Y|           Just Read|A few years ago I...| 2012-05-02|\n",
            "|         US|   24202187| RQZ638E0E34Z3|1937007448|     512918432|Deadlocked (Sooki...|           Books|          2|          259|        299|   N|                N|Really not very good|I have loved all ...| 2012-05-02|\n",
            "|         US|   35906535|R2RP1D1I036Q6C|0393338827|      80223098|The Big Short: In...|           Books|          1|           20|         34|   N|                N|      Self-indulgent|Micheal Lewis wri...| 2012-05-02|\n",
            "|         US|   26356879|R3TJPP6SLHXO41|1591843529|     284133276|The Personal MBA:...|           Books|          1|           16|         27|   N|                Y|This book was not...|The Personal MBA ...| 2012-05-02|\n",
            "|         US|   42590007|R2DK25C3UOICDC|1118204123|     398659789|iOS Hacker's Hand...|           Books|          5|           13|         22|   N|                N|Great book. Stop ...|This is a great b...| 2012-05-02|\n",
            "|         US|   26851687|R3LWNR7QFH1P0U|1581604521|     758372207|Speak Like A Nati...|           Books|          1|           18|         24|   N|                N|It's like reading...|This review is fr...| 2012-05-02|\n",
            "|         US|   46381757|R32X7O6DKBEXM0|1439193541|     701007257|American Canopy: ...|           Books|          5|           25|         26|   N|                N|     Ground breaking|This is a real ma...| 2012-05-02|\n",
            "|         US|    9973109|R16VVIH03CTRHB|1905605285|     400609443|Puzzling People: ...|           Books|          5|           16|         25|   N|                Y|          Great read|This is a great b...| 2012-05-02|\n",
            "+-----------+-----------+--------------+----------+--------------+--------------------+----------------+-----------+-------------+-----------+----+-----------------+--------------------+--------------------+-----------+\n",
            "only showing top 20 rows\n",
            "\n"
          ]
        }
      ]
    },
    {
      "cell_type": "code",
      "metadata": {
        "colab": {
          "base_uri": "https://localhost:8080/"
        },
        "id": "coA0jh9dJuQi",
        "outputId": "5762283b-57c0-407e-9f77-47784f1e67d4"
      },
      "source": [
        "# create a new DataFrame that has 5 star reviews for Y\n",
        "vine_table_Y_5 = vine_table_Y.filter(\"star_rating == 5\")\n",
        "\n",
        "vine_table_Y_5.show()"
      ],
      "execution_count": 16,
      "outputs": [
        {
          "output_type": "stream",
          "name": "stdout",
          "text": [
            "+-----------+-----------+--------------+----------+--------------+--------------------+----------------+-----------+-------------+-----------+----+-----------------+--------------------+--------------------+-----------+\n",
            "|marketplace|customer_id|     review_id|product_id|product_parent|       product_title|product_category|star_rating|helpful_votes|total_votes|vine|verified_purchase|     review_headline|         review_body|review_date|\n",
            "+-----------+-----------+--------------+----------+--------------+--------------------+----------------+-----------+-------------+-----------+----+-----------------+--------------------+--------------------+-----------+\n",
            "|         US|   15737193|R12CHC0CB2WASU|1612183174|     198757847|           King City|           Books|          5|           43|         48|   Y|                N|There's a new she...|Detective Tom Wad...| 2012-05-02|\n",
            "|         US|   47770260|R27UEUDUYPLXZC|0132944677|     855208343|The College Solut...|           Books|          5|           20|         24|   Y|                N|This is the pract...|This is it.  The ...| 2012-04-30|\n",
            "|         US|   35417238|R2QQDNBYDIEL9F|1612182321|     674641303|Technomancer (Uns...|           Books|          5|           35|         41|   Y|                N| A Thrilling Mystery|Quentin Draith wa...| 2012-04-30|\n",
            "|         US|   53070450|R3FO8YQ2BKL1RG|1118107381|      89683871|Evernote For Dummies|           Books|          5|           93|         94|   Y|                N|This is THE guide...|Evernote is a gre...| 2012-04-28|\n",
            "|         US|   52904056|R3DRE8T4NTEWNV|111802740X|     925010801|Frommer's New Yor...|           Books|          5|           28|         28|   Y|                N|An excellent reso...|For years I've pe...| 2012-04-28|\n",
            "|         US|   14653952|R2ZD6GIDCKAJNM|0805094598|     380937934|Shadow and Bone (...|           Books|          5|          118|        139|   Y|                N|     Shadow and Bone|How can I convey ...| 2012-04-28|\n",
            "|         US|   52109863| RHGNFBA3HATNJ|0547569653|     461814573|Eat and Run: My U...|           Books|          5|          223|        237|   Y|                N|  I love Scott Jurek|Many people first...| 2012-04-27|\n",
            "|         US|   51250504|R3IRTK29MZLYTQ|0805090037|     853046074| Bring Up the Bodies|           Books|          5|           24|         29|   Y|                N|Bring on the awar...|\\\\\"Bring Up the B...| 2012-04-26|\n",
            "|         US|   29744123| RK49ETJM70RY1|0805090037|     853046074| Bring Up the Bodies|           Books|          5|          244|        259|   Y|                N|Mr. Secretary Cro...|That's how Hilary...| 2012-04-26|\n",
            "|         US|   13947077| RGFM0JV76IWTR|0547807686|     997288261|The Dark Monk (US...|           Books|          5|           85|         94|   Y|                N|Fun and addictive...|When I read some ...| 2012-04-26|\n",
            "|         US|   44574173|R2MVTQRK9MA8HQ|1594487014|      47188036|       The Chaperone|           Books|          5|          246|        257|   Y|                N|Wonderful Book!  ...|I was originally ...| 2012-04-26|\n",
            "|         US|   51369093|R3W1SRJ7P448QG|0805090037|     853046074| Bring Up the Bodies|           Books|          5|          665|        691|   Y|                N|As exceptional as...|Brief summary and...| 2012-04-26|\n",
            "|         US|   16803633|R1MNTKMBMCDC5K|0805094598|     380937934|Shadow and Bone (...|           Books|          5|           18|         22|   Y|                Y|How can so much a...|This book was AMA...| 2012-04-26|\n",
            "|         US|   52882143|R3Q35CSCZSTXWU|1741799007|      30888732|Lonely Planet USA...|           Books|          5|           47|         47|   Y|                N|As Comprehensive ...|A travel guide th...| 2012-04-26|\n",
            "|         US|   51936196|R18ESKZJPTYHPF|0805090037|     853046074| Bring Up the Bodies|           Books|          5|          103|        118|   Y|                N|a confession for ...|Confession time: ...| 2012-04-25|\n",
            "|         US|   49744672|R3QJJCEHSDL1YG|0470876603|     846560678|The DSLR Filmmake...|           Books|          5|           64|         66|   Y|                N|Better than other...|I've read several...| 2012-04-25|\n",
            "|         US|   12014587|R23VZW5ENKDWBZ|1741798515|     923580291| Lonely Planet Italy|           Books|          5|           41|         43|   Y|                N|Nice guidebook --...|This is a thoroug...| 2012-04-25|\n",
            "|         US|   10510292|R2BFH1B300RC6N|0805094598|     380937934|Shadow and Bone (...|           Books|          5|           20|         26|   Y|                N|Addicting New Ser...|I started to read...| 2012-04-25|\n",
            "|         US|   50579471| RQAHHKY2JTB6Q|1612182135|     614152451|            Bloodman|           Books|          5|           20|         23|   Y|                N|            Bloodman|Bloodman<br />By:...| 2012-04-21|\n",
            "|         US|   11314387|R2M2609MC9J6K2|0062116509|      19503217|The Uninvited Gue...|           Books|          5|           16|         20|   Y|                N|Charming, Ominous...|Three adjectives ...| 2012-04-19|\n",
            "+-----------+-----------+--------------+----------+--------------+--------------------+----------------+-----------+-------------+-----------+----+-----------------+--------------------+--------------------+-----------+\n",
            "only showing top 20 rows\n",
            "\n"
          ]
        }
      ]
    },
    {
      "cell_type": "code",
      "metadata": {
        "colab": {
          "base_uri": "https://localhost:8080/"
        },
        "id": "Ue_oA64vKW_H",
        "outputId": "e0b5e25c-c6ff-402a-c066-cb7bb69124ee"
      },
      "source": [
        "# create a new DataFrame that has 5 star reviews for N\n",
        "vine_table_N_5 = vine_table_N.filter(\"star_rating == 5\")\n",
        "\n",
        "vine_table_N_5.show()"
      ],
      "execution_count": 17,
      "outputs": [
        {
          "output_type": "stream",
          "name": "stdout",
          "text": [
            "+-----------+-----------+--------------+----------+--------------+--------------------+----------------+-----------+-------------+-----------+----+-----------------+--------------------+--------------------+-----------+\n",
            "|marketplace|customer_id|     review_id|product_id|product_parent|       product_title|product_category|star_rating|helpful_votes|total_votes|vine|verified_purchase|     review_headline|         review_body|review_date|\n",
            "+-----------+-----------+--------------+----------+--------------+--------------------+----------------+-----------+-------------+-----------+----+-----------------+--------------------+--------------------+-----------+\n",
            "|         US|   52978967|R1363VA3TPNLVB|0670022969|     432940103|American Nations:...|           Books|          5|          370|        388|   N|                Y|Like scales falli...|Colin Woodard has...| 2012-05-03|\n",
            "|         US|   52445438| RBQZC5A3TSWT5|085768986X|      69886969|Joss Whedon: The ...|           Books|          5|           11|         22|   N|                Y| it's full of words!|i pre-ordered thi...| 2012-05-02|\n",
            "|         US|   26721603|R3DTESO4FUAPKQ|1455502413|     137970084|Rather Outspoken:...|           Books|          5|           90|        102|   N|                N|Rather knocks it ...|I have worked for...| 2012-05-02|\n",
            "|         US|   31398202|R1VSQ3QK30VDI0|0393088774|     132712094|End This Depressi...|           Books|          5|           23|         35|   N|                N|Clear arguments u...|This is a great b...| 2012-05-02|\n",
            "|         US|   13575437|R3NEJBF4FXMVUU|1609412427|     422462452|Vegan Cooking for...|           Books|          5|           87|         90|   N|                Y|Cooking up a stor...|I love this book....| 2012-05-02|\n",
            "|         US|   14213000|R34ZTQTHWRHT5R|1893183246|      42346661|Voyagers: The Sle...|           Books|          5|           18|         20|   N|                Y|        Enlightening|After determining...| 2012-05-02|\n",
            "|         US|   24512353| RSD6TF0E24D9P|0061985120|      64682743|Still the Best Ho...|           Books|          5|           30|         34|   N|                Y|PLEASE ACTIVATE F...|As I believe the ...| 2012-05-02|\n",
            "|         US|   46969326|R2DLFW0GMIFTKP|0761155589|     818975183|Just Ride: A Radi...|           Books|          5|           53|         58|   N|                Y|           Just Read|A few years ago I...| 2012-05-02|\n",
            "|         US|   42590007|R2DK25C3UOICDC|1118204123|     398659789|iOS Hacker's Hand...|           Books|          5|           13|         22|   N|                N|Great book. Stop ...|This is a great b...| 2012-05-02|\n",
            "|         US|   46381757|R32X7O6DKBEXM0|1439193541|     701007257|American Canopy: ...|           Books|          5|           25|         26|   N|                N|     Ground breaking|This is a real ma...| 2012-05-02|\n",
            "|         US|    9973109|R16VVIH03CTRHB|1905605285|     400609443|Puzzling People: ...|           Books|          5|           16|         25|   N|                Y|          Great read|This is a great b...| 2012-05-02|\n",
            "|         US|    9995400|R2X32J4OCKG97E|1608680797|     693630682|Clutter Busting Y...|           Books|          5|           36|         37|   N|                Y|Do Yourself a Fav...|\\\\\"Clutter Bustin...| 2012-05-02|\n",
            "|         US|   16828213|R2OSURJGOK7H7J|0062112031|     922753155|    My Cross to Bear|           Books|          5|           37|         48|   N|                Y|          Great Read|This is a really ...| 2012-05-02|\n",
            "|         US|   47472980|R1Y24EVNZIMQ32|144052999X|     368061752|The Everything Ea...|           Books|          5|           36|         37|   N|                N|GREAT Book for an...|This book is AMAZ...| 2012-05-02|\n",
            "|         US|   40970107|R1W3BQLDCG6XZF|0802405584|     441567123|   Harvest of Rubies|           Books|          5|           38|         39|   N|                N|History Comes Alive!|Once again, Tessa...| 2012-05-02|\n",
            "|         US|   42229638|R2C5WAIW2UJ8E2|0071747052|     222639007|The Four Pillars ...|           Books|          5|           20|         20|   N|                N|Perhaps THE best ...|I'm an investment...| 2012-05-02|\n",
            "|         US|   15247638|R244B3ACNAVA8P|0345527194|     557715460|The Autism Revolu...|           Books|          5|           22|         23|   N|                Y|This is an import...|Despite over fort...| 2012-05-02|\n",
            "|         US|   51370067|R3FZ8I1U4LWJLM|143470064X|      55092607|The Jesus Life: E...|           Books|          5|           26|         28|   N|                N|For Those in the ...|I'm writing on be...| 2012-05-02|\n",
            "|         US|   51932972| RL1R0S35GUGP2|0486245241|     344783671|Sargent Portrait ...|           Books|          5|           62|         65|   N|                Y|Nice Book \"Antiqu...|[[VIDEOID:mo3I94A...| 2012-05-02|\n",
            "|         US|   50780244|R38C5VXIXIICPB|0809094770|     636161467|The Boxer Rebelli...|           Books|          5|           67|         69|   N|                Y|Objective, logica...|This is more of s...| 2012-05-02|\n",
            "+-----------+-----------+--------------+----------+--------------+--------------------+----------------+-----------+-------------+-----------+----+-----------------+--------------------+--------------------+-----------+\n",
            "only showing top 20 rows\n",
            "\n"
          ]
        }
      ]
    },
    {
      "cell_type": "code",
      "metadata": {
        "colab": {
          "base_uri": "https://localhost:8080/"
        },
        "id": "ZaIcd35LIUM-",
        "outputId": "fbcc9b6d-789d-4b93-c070-324a771b29f5"
      },
      "source": [
        "# create a new DataFrame that has less than 5 star reviews for Y\n",
        "vine_table_Y_lessthan5 = vine_table_Y.filter(\"star_rating != 5\")\n",
        "\n",
        "vine_table_Y_lessthan5.show()\n"
      ],
      "execution_count": 18,
      "outputs": [
        {
          "output_type": "stream",
          "name": "stdout",
          "text": [
            "+-----------+-----------+--------------+----------+--------------+--------------------+----------------+-----------+-------------+-----------+----+-----------------+--------------------+--------------------+-----------+\n",
            "|marketplace|customer_id|     review_id|product_id|product_parent|       product_title|product_category|star_rating|helpful_votes|total_votes|vine|verified_purchase|     review_headline|         review_body|review_date|\n",
            "+-----------+-----------+--------------+----------+--------------+--------------------+----------------+-----------+-------------+-----------+----+-----------------+--------------------+--------------------+-----------+\n",
            "|         US|   50673938|R2Z8083V8ZFQVZ|1612183549|     561835180|Redemption (The P...|           Books|          3|           82|         87|   Y|                N|     Promising debut|The positives:  t...| 2012-05-02|\n",
            "|         US|   35653914| RK25TAO4GGS5G|0547567375|     266689242|The Bell Bandit (...|           Books|          3|           22|         24|   Y|                N|Torture Scene Cos...|There were many a...| 2012-05-02|\n",
            "|         US|   42944532|R2SJQG3C6KY0M8|1742205933|     287545472|The World's Best ...|           Books|          3|           18|         20|   Y|                N|For armchair cook...|The wonderful int...| 2012-05-02|\n",
            "|         US|   52772260|R2RY328TIDXMTE|0470647736|     665259602|The Scientific Am...|           Books|          2|           50|         61|   Y|                N|Some inaccurate i...|I have a degree i...| 2012-05-02|\n",
            "|         US|   42632783|R3K8OQU4PEP8W7|1594487014|      47188036|       The Chaperone|           Books|          4|           40|         46|   Y|                N|      A joy to read.|The Chaperone<br ...| 2012-05-01|\n",
            "|         US|   44863880|R1JI1A7JT99538|030758836X|      93816562|           Gone Girl|           Books|          3|           28|         40|   Y|                N|Starts off real s...|I'm just going to...| 2012-05-01|\n",
            "|         US|   30575449|R247K3K5SVPJUL|0374192049|     262803045|Little Century: A...|           Books|          3|           15|         20|   Y|                N|Tale of the Almos...|LITTLE CENTURY by...| 2012-04-30|\n",
            "|         US|   52536258|R26ELQU09IPX5K|0307599590|     733854560|               Perla|           Books|          2|           11|         21|   Y|                N|Overwritten and w...|This is an intere...| 2012-04-29|\n",
            "|         US|   52564644| RSKUR90HGW6PY|0765316994|     393507760|Redshirts: A Nove...|           Books|          3|           34|         54|   Y|                N|Not as Good As I ...|We all know if yo...| 2012-04-29|\n",
            "|         US|   33376665|R1W7MQRB02CRG8|0062107968|     652614717|The Cottage at Gl...|           Books|          4|           20|         22|   Y|                N|The writing is lo...|For me the best p...| 2012-04-29|\n",
            "|         US|   52499409|R3LJN6BQL2F0BR|1612182070|     704852287|         Liquid Fear|           Books|          1|           28|         34|   Y|                N|Sure glad I didn'...|I almost NEVER gi...| 2012-04-29|\n",
            "|         US|   33544477|R27HEI4FN6TZQ7|0062103733|     962376497|          Unraveling|           Books|          3|           20|         27|   Y|                N|Complex--or convo...|I must start by s...| 2012-04-28|\n",
            "|         US|   50529050|R33G38RMCEXIVD|1594203377|     346152424|The Queen's Lover...|           Books|          4|           28|         29|   Y|                N|Marie Antoinette ...|Marie Antoinette ...| 2012-04-28|\n",
            "|         US|   43449150|R3DKQQNX6X3VTU|0399157646|     311942957|            Overseas|           Books|          4|           53|         56|   Y|                N|5-star story, 4-s...|I am not a reader...| 2012-04-27|\n",
            "|         US|   25735899|R374GV4B4X7IG2|0307480593|     524698697|Fodor's Israel (F...|           Books|          3|           17|         21|   Y|                N|Pretty good stab ...|Maybe I'm biased,...| 2012-04-26|\n",
            "|         US|   13352684| RKKR1LNIBSRN8|0061928127|     672669017|Beautiful Ruins: ...|           Books|          2|           18|         29|   Y|                N|A  Play In A Stor...|Yes, the title of...| 2012-04-25|\n",
            "|         US|   45768986|R322UVAJYIARGH|0061766216|      51058069|Fooling Houdini: ...|           Books|          3|           78|         94|   Y|                N|Not As Good As Yo...|This is a book th...| 2012-04-25|\n",
            "|         US|   35622109|R2S0XW8WB4OBBI|0805090037|     853046074| Bring Up the Bodies|           Books|          4|           31|         36|   Y|                Y|The middle book a...|This is the secon...| 2012-04-25|\n",
            "|         US|   52952536|R1RF9OOYU7L95D|0385343329|     213832875|The Proposal (Sur...|           Books|          4|           52|         57|   Y|                N|On the whole, it ...|While Mary Balogh...| 2012-04-24|\n",
            "|         US|   10329492|R3RNXPKTRGFNT3|0062115391|     918451538|   Arranged: A Novel|           Books|          2|           14|         20|   Y|                N|Implausible and f...|Wow. I really LOV...| 2012-04-23|\n",
            "+-----------+-----------+--------------+----------+--------------+--------------------+----------------+-----------+-------------+-----------+----+-----------------+--------------------+--------------------+-----------+\n",
            "only showing top 20 rows\n",
            "\n"
          ]
        }
      ]
    },
    {
      "cell_type": "code",
      "metadata": {
        "colab": {
          "base_uri": "https://localhost:8080/"
        },
        "id": "6JvAXFupLAtL",
        "outputId": "34e94b4a-1d5c-42d2-e15b-1a0b82a4b0b3"
      },
      "source": [
        "# create a new DataFrame that has less than 5 star reviews for N\n",
        "vine_table_N_lessthan5 = vine_table_N.filter(\"star_rating != 5\")\n",
        "\n",
        "vine_table_N_lessthan5.show()"
      ],
      "execution_count": 19,
      "outputs": [
        {
          "output_type": "stream",
          "name": "stdout",
          "text": [
            "+-----------+-----------+--------------+----------+--------------+--------------------+----------------+-----------+-------------+-----------+----+-----------------+--------------------+--------------------+-----------+\n",
            "|marketplace|customer_id|     review_id|product_id|product_parent|       product_title|product_category|star_rating|helpful_votes|total_votes|vine|verified_purchase|     review_headline|         review_body|review_date|\n",
            "+-----------+-----------+--------------+----------+--------------+--------------------+----------------+-----------+-------------+-----------+----+-----------------+--------------------+--------------------+-----------+\n",
            "|         US|   49541983|R14PMAJTY0EAAT|1937007456|     411822135|The Lost Fleet: B...|           Books|          4|          135|        142|   N|                Y|Good Continuation...|Bottom line is th...| 2012-05-03|\n",
            "|         US|   52977415|R3OW0AIVLEDIQ7|0262016729|     624789283|The Clash of Gene...|           Books|          3|           99|        121|   N|                N|Fiscal analysis 1...|This book covers ...| 2012-05-02|\n",
            "|         US|   30627084|R367X555006ROC|0984975314|     617362935|Arena One: Slaver...|           Books|          1|           39|         44|   N|                N|This is NOT \"The ...|This dystopian YA...| 2012-05-02|\n",
            "|         US|   32783890| R4NCMAZCRAXHT|1584798947|     555497783|CakeLove in the M...|           Books|          3|           19|         21|   N|                N|For the novice ba...|Pros: beautiful p...| 2012-05-02|\n",
            "|         US|   10634581|R33JIVA97UYKH2|1611453305|     328274764|Perfume: The Alch...|           Books|          2|           23|         29|   N|                Y|    Fails to Deliver|This book disappo...| 2012-05-02|\n",
            "|         US|   24202187| RQZ638E0E34Z3|1937007448|     512918432|Deadlocked (Sooki...|           Books|          2|          259|        299|   N|                N|Really not very good|I have loved all ...| 2012-05-02|\n",
            "|         US|   35906535|R2RP1D1I036Q6C|0393338827|      80223098|The Big Short: In...|           Books|          1|           20|         34|   N|                N|      Self-indulgent|Micheal Lewis wri...| 2012-05-02|\n",
            "|         US|   26356879|R3TJPP6SLHXO41|1591843529|     284133276|The Personal MBA:...|           Books|          1|           16|         27|   N|                Y|This book was not...|The Personal MBA ...| 2012-05-02|\n",
            "|         US|   26851687|R3LWNR7QFH1P0U|1581604521|     758372207|Speak Like A Nati...|           Books|          1|           18|         24|   N|                N|It's like reading...|This review is fr...| 2012-05-02|\n",
            "|         US|   47991575|R118CBYY8DPJV9|B006OHUGB6|     216430786|Help! Mom! There ...|           Books|          1|           24|         39|   N|                N|And He Said, \"Let...|Is their no end t...| 2012-05-02|\n",
            "|         US|   42805446|R162RAT4B66BD7|1851683690|      89057945|Quantum Physics: ...|           Books|          1|           31|         35|   N|                Y|   Not for beginners|I doubt that a sc...| 2012-05-02|\n",
            "|         US|   51952962| RE4BOBQLRIJU2|1603420789|     531804180|Rosemary Gladstar...|           Books|          1|          163|        221|   N|                N|Lacking in Accura...|Please excuse me,...| 2012-05-02|\n",
            "|         US|   53029676|R2EGHT4UH9XCJU|0937912158|     376128764|Gunpowder God (Lo...|           Books|          4|           25|         29|   N|                N|Get us back to Ka...|Somewhere along t...| 2012-05-02|\n",
            "|         US|   49217685|R3NKU0DS7Q55HH|044042321X|     268067011|A Game of Thrones...|           Books|          3|           31|         42|   N|                N|       Disappointing|I have read every...| 2012-05-02|\n",
            "|         US|   38463097|R1D24T414Y3LPM|0451233174|     256085250|Jeneration X: One...|           Books|          2|           24|         40|   N|                N|Lesson one in wri...|I love Jan Lancas...| 2012-05-02|\n",
            "|         US|   50884844|R1504NWBRNYN0B|0345803485|     600633062|Fifty Shades of G...|           Books|          1|          949|       1029|   N|                Y|Wow. Jeez. Holy C...|Fifty Shades of G...| 2012-05-02|\n",
            "|         US|   21794608|R33IH3BWVNCT6Y|098469742X|     618264583|Of Moths and Butt...|           Books|          1|           39|         46|   N|                N|could not finish ...|i don't understan...| 2012-05-02|\n",
            "|         US|   51116935|R2OOTOOIW1N5H8|1401908896|     545544984|Animals and the A...|           Books|          1|           24|         30|   N|                Y|Not A Book For Re...|the first three o...| 2012-05-02|\n",
            "|         US|   35699983|R2I285ELN16OYV|1451669364|     736837185|The DASH Diet for...|           Books|          4|           15|         22|   N|                Y|               marie|Good book and inf...| 2012-05-02|\n",
            "|         US|   22007272|R1CI5FWNMWIGWE|1937007448|     512918432|Deadlocked (Sooki...|           Books|          1|           17|         23|   N|                N|     Not Interesting|This book lacked ...| 2012-05-02|\n",
            "+-----------+-----------+--------------+----------+--------------+--------------------+----------------+-----------+-------------+-----------+----+-----------------+--------------------+--------------------+-----------+\n",
            "only showing top 20 rows\n",
            "\n"
          ]
        }
      ]
    },
    {
      "cell_type": "code",
      "metadata": {
        "id": "np2s5h8-LKMA"
      },
      "source": [
        "\n",
        "v_20 = vine_table_20.count()\n",
        "v_50 = vine_table_50.count()\n",
        "v_Y = vine_table_Y.count()\n",
        "v_N = vine_table_N.count()\n",
        "v_Y_5 = vine_table_Y_5.count()\n",
        "v_N_5 = vine_table_N_5.count()\n",
        "v_Y_lessthan5 = vine_table_Y_lessthan5.count()\n",
        "v_N_lessthan5 = vine_table_N_lessthan5.count()"
      ],
      "execution_count": 21,
      "outputs": []
    },
    {
      "cell_type": "code",
      "metadata": {
        "colab": {
          "base_uri": "https://localhost:8080/"
        },
        "id": "KkVTiknrNNAC",
        "outputId": "3d8bb94d-b67d-47f6-c5d1-37bf70b857e7"
      },
      "source": [
        "print(\"Total number of paid reviews %f\" % v_Y)\n",
        "\n",
        "print(\"Total number of unpaid reviews %f\" % v_N)\n",
        "\n",
        "print(\"Total number of paid 5 star reviews %f\" % v_Y_5) \n",
        "\n",
        "print(\"Total number of unpaid 5 star reviews %f\" % v_N_5)  \n",
        "\n",
        "print(\"Percentage of paid 5 star reviews %f\" % (v_Y_5/v_Y *100), \"%\")\n",
        "\n",
        "print(\"Percentage of unpaid 5 star reviews %f\" % (v_N_5/v_N *100), \"%\") \n"
      ],
      "execution_count": 28,
      "outputs": [
        {
          "output_type": "stream",
          "name": "stdout",
          "text": [
            "Total number of paid reviews 4781.000000\n",
            "Total number of unpaid reviews 332395.000000\n",
            "Total number of paid 5 star reviews 1604.000000\n",
            "Total number of unpaid 5 star reviews 168800.000000\n",
            "Percentage of paid 5 star reviews 33.549467 %\n",
            "Percentage of unpaid 5 star reviews 50.782954 %\n"
          ]
        }
      ]
    },
    {
      "cell_type": "code",
      "metadata": {
        "colab": {
          "base_uri": "https://localhost:8080/"
        },
        "id": "8powVLiWetPd",
        "outputId": "88b4ee16-8e54-469b-ab0b-951a1af2640f"
      },
      "source": [
        "print(\"Percentage of paid less than 5 star reviews %f\" % (v_Y_lessthan5/v_Y *100), \"%\")\n",
        "\n",
        "print(\"Percentage of unpaid less than 5 star reviews %f\" % (v_N_lessthan5/v_N *100), \"%\") "
      ],
      "execution_count": 29,
      "outputs": [
        {
          "output_type": "stream",
          "name": "stdout",
          "text": [
            "Percentage of paid less than 5 star reviews 66.450533 %\n",
            "Percentage of unpaid less than 5 star reviews 49.217046 %\n"
          ]
        }
      ]
    }
  ]
}